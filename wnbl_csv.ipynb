{
 "metadata": {
  "language_info": {
   "codemirror_mode": {
    "name": "ipython",
    "version": 3
   },
   "file_extension": ".py",
   "mimetype": "text/x-python",
   "name": "python",
   "nbconvert_exporter": "python",
   "pygments_lexer": "ipython3",
   "version": "3.7.7-final"
  },
  "orig_nbformat": 2,
  "kernelspec": {
   "name": "python3",
   "display_name": "Python 3"
  }
 },
 "nbformat": 4,
 "nbformat_minor": 2,
 "cells": [
  {
   "source": [
    "# WNBL Plotting\n",
    "\n",
    "Demonstration of loading multiple csv files and plotting various features.  "
   ],
   "cell_type": "markdown",
   "metadata": {}
  },
  {
   "cell_type": "code",
   "execution_count": null,
   "metadata": {},
   "outputs": [],
   "source": [
    "import pandas as pd\n",
    "import matplotlib.pyplot as plt\n",
    "import os\n",
    "import wnbl\n",
    "\n",
    "data_path = \".\\\\data\""
   ]
  },
  {
   "cell_type": "code",
   "execution_count": null,
   "metadata": {},
   "outputs": [],
   "source": [
    "def boxplot_sorted_by_position(df, by, column, position, rot=0):\n",
    "    # use dict comprehension to create new dataframe from the iterable groupby object\n",
    "    # each group name becomes a column in the new dataframe\n",
    "    df2 = pd.DataFrame({col:vals[column] for col, vals in df.groupby(by)})\n",
    "    # find and sort the median values in this new dataframe\n",
    "    # meds = df2.median().sort_values()\n",
    "    pos = position['Position'].sort_values(ascending=False)\n",
    "    colnames = position.iloc[pos.index]['Team']\n",
    "    # use the columns in the dataframe, ordered sorted by median value\n",
    "    # return axes so changes can be made outside the function\n",
    "    return df2[colnames].boxplot(rot=rot, return_type=\"axes\", vert=False)"
   ]
  },
  {
   "cell_type": "code",
   "execution_count": null,
   "metadata": {},
   "outputs": [],
   "source": [
    "def boxplot_sorted_by_median(df, by, column, rot=0):\n",
    "    # use dict comprehension to create new dataframe from the iterable groupby object\n",
    "    # each group name becomes a column in the new dataframe\n",
    "    df2 = pd.DataFrame({col:vals[column] for col, vals in df.groupby(by)})\n",
    "    # find and sort the median values in this new dataframe\n",
    "    meds = df2.median().sort_values()\n",
    "    # use the columns in the dataframe, ordered sorted by median value\n",
    "    # return axes so changes can be made outside the function\n",
    "    return df2[meds.index].boxplot(rot=rot, return_type=\"axes\", vert=False)"
   ]
  },
  {
   "cell_type": "code",
   "execution_count": null,
   "metadata": {},
   "outputs": [],
   "source": [
    "# concatenate all teams by season info, drop duplicates to define unique TeamID and name mapping\n",
    "teams_df = wnbl.load_csv(data_path,'teams')\n",
    "teams_df.info()"
   ]
  },
  {
   "cell_type": "code",
   "execution_count": null,
   "metadata": {},
   "outputs": [],
   "source": [
    "# concatenate all players by season stats\n",
    "players_df = wnbl.load_csv(data_path,'players',include_id=True)\n",
    "players_df.info()"
   ]
  },
  {
   "cell_type": "code",
   "execution_count": null,
   "metadata": {},
   "outputs": [],
   "source": [
    "# concatenate all standings by seasons\n",
    "standings_df = wnbl.load_csv(data_path,'standings',include_id=True)\n",
    "\n",
    "# remove logo column (NaN)\n",
    "standings_df = standings_df.drop(standings_df.columns[1], axis=1)\n",
    "standings_df.info()"
   ]
  },
  {
   "cell_type": "code",
   "execution_count": null,
   "metadata": {},
   "outputs": [],
   "source": [
    "# load seasons (maps year to competition)\n",
    "# seasons_df = pd.read_csv(os.path.join(data_path,'seasons.csv'))\n",
    "seasons_df = wnbl.load_csv(data_path,'seasons.csv')\n",
    "\n",
    "# identify current seasons\n",
    "comp_id = seasons_df['CompID'].max()"
   ]
  },
  {
   "cell_type": "code",
   "execution_count": null,
   "metadata": {},
   "outputs": [],
   "source": [
    "seasons_df.info()"
   ]
  },
  {
   "cell_type": "code",
   "execution_count": null,
   "metadata": {},
   "outputs": [],
   "source": [
    "# merge players and seasons so we can plot by date\n",
    "players_df = players_df.merge(seasons_df,on='CompID',how='left')"
   ]
  },
  {
   "cell_type": "code",
   "execution_count": null,
   "metadata": {},
   "outputs": [],
   "source": [
    "players_df = players_df.merge(teams_df,on='TeamID',how='left')\n",
    "# players_df = players_df.rename(columns={'Team_y':'Team'})"
   ]
  },
  {
   "cell_type": "code",
   "execution_count": null,
   "metadata": {},
   "outputs": [],
   "source": [
    "players_df.info()"
   ]
  },
  {
   "cell_type": "code",
   "execution_count": null,
   "metadata": {},
   "outputs": [],
   "source": [
    "# associate team full name with standings\n",
    "standings_df = standings_df.merge(teams_df,on='TeamID',how='left')\n",
    "standings_df = standings_df.rename(columns={'Team_y':'Team'})"
   ]
  },
  {
   "cell_type": "code",
   "execution_count": null,
   "metadata": {},
   "outputs": [],
   "source": [
    "# New features\n",
    "da = players_df\n",
    "\n",
    "# efficiency\n",
    "da['EFF'] = da['PTS'] + da['REB'] + da['AST'] + da['STL'] + da['BLK'] - (da['FGA'] - da['FGM']) - (da['3PA'] - da['3PM'])  - (da['FTA'] - da['FTM']) - da['TO']\n",
    "\n",
    "# efficiency per game\n",
    "da['EPG'] = da['EFF'] / da['G']"
   ]
  },
  {
   "cell_type": "code",
   "execution_count": null,
   "metadata": {},
   "outputs": [],
   "source": [
    "# filter data by comp\n",
    "\n",
    "tmp = da[da['CompID']==comp_id]\n",
    "tmp = tmp[['Team','EPG']]\n",
    "tmp.info()"
   ]
  },
  {
   "cell_type": "code",
   "execution_count": null,
   "metadata": {},
   "outputs": [],
   "source": [
    "# identify outliers, filter by current comp\n",
    "\n",
    "# team_q1 = tmp.groupby('Team').quantile(0.25)['EPG'].to_numpy()\n",
    "# team_q3 = tmp.groupby('Team').quantile(0.75)['EPG'].to_numpy()\n",
    "# outlier_top_lim = team_q3 + 1.5 * (team_q3 - team_q1)\n",
    "# outlier_bottom_lim = team_q1 - 1.5 * (team_q3 - team_q1)"
   ]
  },
  {
   "cell_type": "code",
   "execution_count": null,
   "metadata": {},
   "outputs": [],
   "source": [
    "# Plot - need position from standings\n",
    "\n",
    "# filter standings by competition to match stats\n",
    "dfs = standings_df[standings_df['CompID']==comp_id].reset_index()\n",
    "\n",
    "ax = boxplot_sorted_by_position(tmp, by=['Team'], column=\"EPG\",position=dfs)\n",
    "ax.set(xlabel='EPG',ylabel='Team',title='WNBL 2020 Distribution of Player Efficiency Per Game\\nOrdered by Standings Dec 1st 2020')\n",
    "\n",
    "ax.figure.set_size_inches(10,5)\n",
    "ax.figure.savefig('wnbl20_team_standings_boxplot.png',bbox_inches='tight')"
   ]
  },
  {
   "cell_type": "code",
   "execution_count": null,
   "metadata": {},
   "outputs": [],
   "source": [
    "# Plot ordered by median EPG\n",
    "ax = boxplot_sorted_by_median(tmp, by=['Team'], column=\"EPG\")\n",
    "ax.set(xlabel='EPG',ylabel='Team',title='WNBL 2020 Distribution of Player Efficiency Per Game\\nOrdered by Decreasing Team EPG Median')\n",
    "\n",
    "ax.figure.set_size_inches(10,5)\n",
    "ax.figure.savefig('wnbl20_team_median_boxplot.png',bbox_inches='tight')"
   ]
  },
  {
   "cell_type": "code",
   "execution_count": null,
   "metadata": {},
   "outputs": [],
   "source": [
    "\n",
    "# multiline plot\n",
    "# tmp =da[['Player','Year','EPG']]\n",
    "# fig, ax = plt.subplots(figsize=(8,6))\n",
    "# for label, df in tmp.sort_values('Year').groupby('Player'):\n",
    "#     df.plot(x='Year',y='EPG', ax=ax, label=label)\n",
    "# plt.legend(loc='upper left')"
   ]
  },
  {
   "cell_type": "code",
   "execution_count": null,
   "metadata": {},
   "outputs": [],
   "source": [
    "# identify top player per team in current season\n",
    "tmp = da[['Player','Team','Year','EPG','CompID','TeamID']]\n",
    "tmp = tmp[tmp['CompID']==comp_id]\n",
    "top_players = tmp.sort_values(['TeamID', 'EPG'], axis=0).groupby('TeamID').tail(1)['Player']\n",
    "\n",
    "# identify current team for these top players\n",
    "current_teams = tmp[tmp['Player'].isin(top_players)][['Player','Team']]\n"
   ]
  },
  {
   "cell_type": "code",
   "execution_count": null,
   "metadata": {},
   "outputs": [],
   "source": [
    "# filter top player data\n",
    "tmp = da[['Player','Team','Year','EPG']]\n",
    "tmp = tmp[tmp['Player'].isin(top_players)]\n",
    "# tmp['Player-Team'] = tmp['Player'].str.cat(tmp['Team'],sep=\" \")\n",
    "tmp = tmp.merge(current_teams,on='Player')\n",
    "tmp['Player-Team'] = tmp['Player'] + ' (' + tmp['Team_y'] + ') '\n"
   ]
  },
  {
   "cell_type": "code",
   "execution_count": null,
   "metadata": {},
   "outputs": [],
   "source": [
    "# facet plot of top player historial EPG\n",
    "import seaborn as sns\n",
    "\n",
    "tmp = da[['Player','Team','Year','EPG']]\n",
    "tmp = tmp[tmp['Player'].isin(top_players)]\n",
    "# tmp['Player-Team'] = tmp['Player'].str.cat(tmp['Team'],sep=\" \")\n",
    "tmp = tmp.merge(current_teams,on='Player')\n",
    "tmp['Player-Team'] = tmp['Player'] + '\\n(' + tmp['Team_y'] + ') '\n",
    "\n",
    "# Create a grid : initialize it\n",
    "g = sns.FacetGrid(tmp.sort_values('Year'), col='Player-Team', hue='Player-Team', col_wrap=4)\n",
    " \n",
    "# Add the line over the area with the plot function\n",
    "g = g.map(plt.plot, 'Year', 'EPG')\n",
    " \n",
    "# Fill the area with fill_between\n",
    "g = g.map(plt.fill_between, 'Year', 'EPG', alpha=0.2).set_titles(\"{col_name} Player-Team\")\n",
    " \n",
    "# Control the title of each facet\n",
    "g = g.set_titles(\"{col_name}\")\n",
    " \n",
    "# Add a title for the whole plot\n",
    "plt.subplots_adjust(top=0.85)\n",
    "sns.set(rc={'figure.figsize':(12,8)})\n",
    "g = g.fig.suptitle('Historical Performance of Top WNBL Players Per Team in 2020')\n",
    "\n",
    "plt.text(2020,-13,\"linkedin.com/in/evassiliadis\",ha='right',alpha=0.5)\n",
    "plt.text(2020,-16,\"github.com/vass1138/wnbl\",ha='right',alpha=0.5)\n",
    "plt.savefig('wnbl_top_players_history.png')\n",
    "plt.show()"
   ]
  },
  {
   "cell_type": "code",
   "execution_count": null,
   "metadata": {},
   "outputs": [],
   "source": []
  }
 ]
}