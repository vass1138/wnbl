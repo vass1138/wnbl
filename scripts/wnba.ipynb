{
 "metadata": {
  "language_info": {
   "codemirror_mode": {
    "name": "ipython",
    "version": 3
   },
   "file_extension": ".py",
   "mimetype": "text/x-python",
   "name": "python",
   "nbconvert_exporter": "python",
   "pygments_lexer": "ipython3",
   "version": "3.8.5"
  },
  "orig_nbformat": 4,
  "kernelspec": {
   "name": "python3",
   "display_name": "Python 3.8.5 64-bit"
  },
  "interpreter": {
   "hash": "6eacfadba4315884185b293cbc7ba5661f32902d752cd8bc3b89686261afb976"
  }
 },
 "nbformat": 4,
 "nbformat_minor": 2,
 "cells": [
  {
   "cell_type": "markdown",
   "source": [
    "Develop code to parse the WNBA data."
   ],
   "metadata": {}
  },
  {
   "cell_type": "code",
   "execution_count": 1,
   "source": [
    "import pandas as pd"
   ],
   "outputs": [],
   "metadata": {}
  },
  {
   "cell_type": "code",
   "execution_count": 2,
   "source": [
    "def load_wnba_xlsx(path,name):\r\n",
    "    df = pd.read_excel(path)\r\n",
    "\r\n",
    "    df.drop(df.tail(1).index,inplace=True)\r\n",
    "    df.insert(0,'Player',name)\r\n",
    "\r\n",
    "    return df\r\n",
    "\r\n",
    "def compute_epg(df):\r\n",
    "\r\n",
    "    # efficiency\r\n",
    "    df['EFF'] = df['PTS'] + df['REB'] + df['AST'] + df['STL'] + df['BLK'] - (df['FGA'] - df['FGM']) - (df['3PA'] - df['3PM'])  - (df['FTA'] - df['FTM']) - df['TO']\r\n",
    "\r\n",
    "    # efficiency per game\r\n",
    "    df['EPG'] = df['EFF'] / df['G']\r\n",
    "\r\n",
    "    return df\r\n",
    "\r\n"
   ],
   "outputs": [],
   "metadata": {}
  },
  {
   "cell_type": "code",
   "execution_count": 6,
   "source": [
    "dWNBA = load_wnba_xlsx(\"..\\\\data\\\\wnba\\\\alanna_smith.xlsx\",\"Alanna Smith\")\r\n",
    "dtmp = load_wnba_xlsx(\"..\\\\data\\\\wnba\\\\rebecca_allen.xlsx\",\"Rebecca Allen\")\r\n",
    "\r\n",
    "dWNBA = dWNBA.append(dtmp)\r\n"
   ],
   "outputs": [],
   "metadata": {}
  },
  {
   "cell_type": "code",
   "execution_count": 7,
   "source": [
    "# map WNBA to WNBL columns\r\n",
    "column_mappings = {\"FT\":\"FTM\",\"FG\":\"FGM\",\"3P\":\"3PM\",\"2P\":\"2PM\",\"ORB\":\"OFF\",\"DRB\":\"DEF\",\"TRB\":\"REB\",\"TOV\":\"TO\"}\r\n",
    "dWNBA.rename(columns=column_mappings,inplace=True)\r\n"
   ],
   "outputs": [],
   "metadata": {}
  },
  {
   "cell_type": "code",
   "execution_count": 9,
   "source": [
    "# multiply stats per game by number of games (inlcuding percentages, for the moment)\r\n",
    "dtmp = dWNBA.copy()\r\n",
    "dWNBA.iloc[:,6:] = dWNBA.iloc[:,6:].mul(dWNBA[\"G\"],axis=0).round(0)\r\n"
   ],
   "outputs": [],
   "metadata": {}
  },
  {
   "cell_type": "code",
   "execution_count": 11,
   "source": [
    "# put back the original (correct) percentages from our previous copy\r\n",
    "dWNBA[[\"FG%\",\"FT%\",\"2P%\",\"3P%\"]] = dtmp[[\"FG%\",\"FT%\",\"2P%\",\"3P%\"]] "
   ],
   "outputs": [],
   "metadata": {}
  },
  {
   "cell_type": "code",
   "execution_count": 62,
   "source": [
    "# compute the efficiency per game\r\n",
    "dWNBA = compute_epg(dWNBA)"
   ],
   "outputs": [
    {
     "output_type": "execute_result",
     "data": {
      "text/plain": [
       "         Player  Year Team   Age   G  GS     MP   FGM    FGA    FG%  ...  \\\n",
       "0  Alanna Smith  2019  PHO  22.0  18   0  133.0   7.0   41.0  0.195  ...   \n",
       "1  Alanna Smith  2020  PHO  23.0  19   0  296.0  44.0  103.0  0.422  ...   \n",
       "2  Alanna Smith  2021  PHO  24.0  10   0   74.0   5.0   25.0  0.200  ...   \n",
       "\n",
       "    DEF   REB   AST  STL   BLK    TO    PF    PTS    EFF       EPG  \n",
       "0  23.0  34.0   4.0  5.0   5.0   7.0  18.0   20.0   11.0  0.611111  \n",
       "1  48.0  68.0  23.0  6.0  15.0  17.0  48.0  116.0  111.0  5.842105  \n",
       "2  12.0  15.0   5.0  4.0   3.0   2.0   7.0   13.0    4.0  0.400000  \n",
       "\n",
       "[3 rows x 31 columns]"
      ],
      "text/html": [
       "<div>\n",
       "<style scoped>\n",
       "    .dataframe tbody tr th:only-of-type {\n",
       "        vertical-align: middle;\n",
       "    }\n",
       "\n",
       "    .dataframe tbody tr th {\n",
       "        vertical-align: top;\n",
       "    }\n",
       "\n",
       "    .dataframe thead th {\n",
       "        text-align: right;\n",
       "    }\n",
       "</style>\n",
       "<table border=\"1\" class=\"dataframe\">\n",
       "  <thead>\n",
       "    <tr style=\"text-align: right;\">\n",
       "      <th></th>\n",
       "      <th>Player</th>\n",
       "      <th>Year</th>\n",
       "      <th>Team</th>\n",
       "      <th>Age</th>\n",
       "      <th>G</th>\n",
       "      <th>GS</th>\n",
       "      <th>MP</th>\n",
       "      <th>FGM</th>\n",
       "      <th>FGA</th>\n",
       "      <th>FG%</th>\n",
       "      <th>...</th>\n",
       "      <th>DEF</th>\n",
       "      <th>REB</th>\n",
       "      <th>AST</th>\n",
       "      <th>STL</th>\n",
       "      <th>BLK</th>\n",
       "      <th>TO</th>\n",
       "      <th>PF</th>\n",
       "      <th>PTS</th>\n",
       "      <th>EFF</th>\n",
       "      <th>EPG</th>\n",
       "    </tr>\n",
       "  </thead>\n",
       "  <tbody>\n",
       "    <tr>\n",
       "      <th>0</th>\n",
       "      <td>Alanna Smith</td>\n",
       "      <td>2019</td>\n",
       "      <td>PHO</td>\n",
       "      <td>22.0</td>\n",
       "      <td>18</td>\n",
       "      <td>0</td>\n",
       "      <td>133.0</td>\n",
       "      <td>7.0</td>\n",
       "      <td>41.0</td>\n",
       "      <td>0.195</td>\n",
       "      <td>...</td>\n",
       "      <td>23.0</td>\n",
       "      <td>34.0</td>\n",
       "      <td>4.0</td>\n",
       "      <td>5.0</td>\n",
       "      <td>5.0</td>\n",
       "      <td>7.0</td>\n",
       "      <td>18.0</td>\n",
       "      <td>20.0</td>\n",
       "      <td>11.0</td>\n",
       "      <td>0.611111</td>\n",
       "    </tr>\n",
       "    <tr>\n",
       "      <th>1</th>\n",
       "      <td>Alanna Smith</td>\n",
       "      <td>2020</td>\n",
       "      <td>PHO</td>\n",
       "      <td>23.0</td>\n",
       "      <td>19</td>\n",
       "      <td>0</td>\n",
       "      <td>296.0</td>\n",
       "      <td>44.0</td>\n",
       "      <td>103.0</td>\n",
       "      <td>0.422</td>\n",
       "      <td>...</td>\n",
       "      <td>48.0</td>\n",
       "      <td>68.0</td>\n",
       "      <td>23.0</td>\n",
       "      <td>6.0</td>\n",
       "      <td>15.0</td>\n",
       "      <td>17.0</td>\n",
       "      <td>48.0</td>\n",
       "      <td>116.0</td>\n",
       "      <td>111.0</td>\n",
       "      <td>5.842105</td>\n",
       "    </tr>\n",
       "    <tr>\n",
       "      <th>2</th>\n",
       "      <td>Alanna Smith</td>\n",
       "      <td>2021</td>\n",
       "      <td>PHO</td>\n",
       "      <td>24.0</td>\n",
       "      <td>10</td>\n",
       "      <td>0</td>\n",
       "      <td>74.0</td>\n",
       "      <td>5.0</td>\n",
       "      <td>25.0</td>\n",
       "      <td>0.200</td>\n",
       "      <td>...</td>\n",
       "      <td>12.0</td>\n",
       "      <td>15.0</td>\n",
       "      <td>5.0</td>\n",
       "      <td>4.0</td>\n",
       "      <td>3.0</td>\n",
       "      <td>2.0</td>\n",
       "      <td>7.0</td>\n",
       "      <td>13.0</td>\n",
       "      <td>4.0</td>\n",
       "      <td>0.400000</td>\n",
       "    </tr>\n",
       "  </tbody>\n",
       "</table>\n",
       "<p>3 rows × 31 columns</p>\n",
       "</div>"
      ]
     },
     "metadata": {},
     "execution_count": 62
    }
   ],
   "metadata": {}
  },
  {
   "cell_type": "code",
   "execution_count": null,
   "source": [],
   "outputs": [],
   "metadata": {}
  },
  {
   "cell_type": "markdown",
   "source": [
    "At this point, we have all the information required but it is not ordered the same as the wnbl data.\r\n",
    "\r\n",
    "The order should not matter as we will select a subset of columns to plot."
   ],
   "metadata": {}
  }
 ]
}