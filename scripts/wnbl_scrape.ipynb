{
 "metadata": {
  "language_info": {
   "codemirror_mode": {
    "name": "ipython",
    "version": 3
   },
   "file_extension": ".py",
   "mimetype": "text/x-python",
   "name": "python",
   "nbconvert_exporter": "python",
   "pygments_lexer": "ipython3",
   "version": "3.8.5-final"
  },
  "orig_nbformat": 2,
  "kernelspec": {
   "name": "python38564bit72cb0406bdb44ef9960e9117df10c976",
   "display_name": "Python 3.8.5 64-bit",
   "language": "python"
  }
 },
 "nbformat": 4,
 "nbformat_minor": 2,
 "cells": [
  {
   "cell_type": "code",
   "execution_count": 1,
   "metadata": {},
   "outputs": [
    {
     "output_type": "stream",
     "name": "stdout",
     "text": [
      "C:\\Users\\Emanuel\\AppData\\Local\\Programs\\Python\\Python38\\python.exe\n"
     ]
    }
   ],
   "source": [
    "print(sys.executable)"
   ]
  },
  {
   "cell_type": "code",
   "execution_count": 2,
   "metadata": {},
   "outputs": [],
   "source": [
    "import wnbl\n",
    "import pandas as pd\n",
    "import matplotlib.pyplot as plt\n",
    "import glob\n",
    "\n",
    "current_comp_id = 28356\n",
    "\n",
    "# need an initial URL so as to get list of all seasons and team IDs\n",
    "url_comp = \"https://hosted.wh.geniussports.com/embednf/WNBL/en/competition/{COMP}/statistics/team?&iurl=https%3A%2F%2Fwnbl.basketball%2Fstats%2F&_cc=1&_nv=1&_mf=1\"\n",
    "\n",
    "#\n",
    "url_standings = \"https://hosted.wh.geniussports.com/embednf/WNBL/en/competition/{COMP}/standings?&iurl=https%3A%2F%2Fwnbl.basketball%2Fstats%2F&_cc=1&_nv=1&_mf=1\"\n",
    "\n",
    "# team roster - selected by competition and team - table 1\n",
    "url_roster = \"https://wnbl.basketball/stats/?WHurl=%2Fcompetition%2F{COMP}%2Fteam%2F{TEAM}%2Froster\"\n",
    "\n",
    "# team statistics -selected by competition and team - table 3\n",
    "# url_team = \"https://wnbl.basketball/stats/?WHurl=%2Fcompetition%2F{COMP}%2Fteam%2F{TEAM}%2Fstatistics\"\n",
    "url_team = \"https://hosted.wh.geniussports.com/embednf/WNBL/en/competition/{COMP}/team/{TEAM}/statistics?&iurl=https%3A%2F%2Fwnbl.basketball%2Fstats%2F&_cc=1&_nv=1&_mf=1\"\n"
   ]
  },
  {
   "cell_type": "code",
   "execution_count": 3,
   "metadata": {},
   "outputs": [],
   "source": [
    "# get seasons from the drop-down select elements\n",
    "\n",
    "comp_id = str(current_comp_id)\n",
    "urlc = url_comp.replace('{COMP}',comp_id)\n"
   ]
  },
  {
   "cell_type": "code",
   "execution_count": null,
   "metadata": {},
   "outputs": [],
   "source": [
    "seasons = wnbl.get_seasons(url_comp)\n",
    "seasons_df = pd.DataFrame(seasons,columns=['Season','Year','URL','CompID'])\n",
    "seasons_df.to_csv('seasons.csv',index=False)"
   ]
  },
  {
   "cell_type": "code",
   "execution_count": null,
   "metadata": {},
   "outputs": [],
   "source": [
    "# ## Need to loop through comps to teams lists - similar to players below\n",
    "\n",
    "teams_df = pd.DataFrame()\n",
    "\n",
    "for rec in seasons:\n",
    "    # loop through each competition (season)\n",
    "\n",
    "    comp_id = rec[3]\n",
    "    urlc = url_comp.replace('{COMP}',comp_id)\n",
    "    filename = 'teams_mapping_' + str(comp_id) + '.csv'\n",
    "\n",
    "    dft = wnbl.get_teams(urlc)\n",
    "\n",
    "    # save individual seasonal data file\n",
    "    if not glob.glob(filename): dft.to_csv(filename,index=False)\n",
    "\n",
    "    # append this season to master dataframe\n",
    "    # dft['CompID'] = comp_id\n",
    "    teams_df = teams_df.append(dft,index=False)\n",
    "\n",
    "# keep unique rows only\n",
    "teams_df = teams_df.drop_duplicates().reset_index(drop=True)\n"
   ]
  },
  {
   "cell_type": "code",
   "execution_count": null,
   "metadata": {},
   "outputs": [],
   "source": [
    "standings_df = pd.DataFrame()\n",
    "\n",
    "for rec in seasons:\n",
    "    # loop through each competition (season)\n",
    "\n",
    "    comp_id = rec[3]\n",
    "    urlc = url_standings.replace('{COMP}',comp_id)\n",
    "    filename = 'standings_' + str(comp_id) + '.csv'\n",
    "\n",
    "    dfs = wnbl.get_standings(urlc)\n",
    "\n",
    "    # save individual seasonal data file\n",
    "    if not glob.glob(filename): dfs.to_csv(filename,index=False)\n",
    "\n",
    "    # append this season to master dataframe\n",
    "    dfs['CompID'] = comp_id\n",
    "    standings_df = standings_df.append(dfs)\n",
    "\n",
    "# remove logo column (NaN)\n",
    "standings_df = standings_df.drop(standings_df.columns[1], axis=1)"
   ]
  },
  {
   "cell_type": "code",
   "execution_count": null,
   "metadata": {},
   "outputs": [],
   "source": [
    "# standings don't use full team name so merge with teams data\n",
    "standings_df = standings_df.merge(teams_df,on='TeamID',how='left')"
   ]
  },
  {
   "cell_type": "code",
   "execution_count": null,
   "metadata": {},
   "outputs": [],
   "source": [
    "teams_df = standings_df[standings_df['CompID']==comp_id]\n",
    "teams_df"
   ]
  },
  {
   "cell_type": "code",
   "execution_count": null,
   "metadata": {
    "tags": []
   },
   "outputs": [],
   "source": [
    "\n",
    "# for given competition, cycle through teams and get stats\n",
    "\n",
    "players_df = pd.DataFrame()\n",
    "\n",
    "for rec in seasons:\n",
    "\n",
    "    comp_id = rec[3]   \n",
    "    url1 = url_team.replace('{COMP}',comp_id)\n",
    "\n",
    "    stats_df = pd.DataFrame()\n",
    "\n",
    "    # process the teams in the selected season\n",
    "    teams_df = standings_df[standings_df['CompID']==comp_id]\n",
    "\n",
    "    for index, row in teams_df.iterrows():\n",
    "        team_name = row['Team_y']\n",
    "        team_id = row['TeamID']\n",
    "        url2 = url1.replace('{TEAM}',str(team_id))\n",
    "\n",
    "        dfp = wnbl.get_players(url2)\n",
    "\n",
    "        dfp['TeamID'] = team_id\n",
    "        stats_df = stats_df.append(dfp,ignore_index=True)\n",
    "\n",
    "    filename = 'players_' + str(comp_id) + '.csv'\n",
    "    if not glob.glob(filename): stats_df.to_csv(filename,index=False)\n",
    "\n",
    "    stats_df['CompID'] = comp_id\n",
    "    players_df = players_df.append(stats_df,ignore_index=True)\n"
   ]
  }
 ]
}