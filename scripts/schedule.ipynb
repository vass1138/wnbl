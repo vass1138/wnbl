{
 "metadata": {
  "language_info": {
   "codemirror_mode": {
    "name": "ipython",
    "version": 3
   },
   "file_extension": ".py",
   "mimetype": "text/x-python",
   "name": "python",
   "nbconvert_exporter": "python",
   "pygments_lexer": "ipython3",
   "version": "3.7.7-final"
  },
  "orig_nbformat": 2,
  "kernelspec": {
   "name": "python3",
   "display_name": "Python 3",
   "language": "python"
  }
 },
 "nbformat": 4,
 "nbformat_minor": 2,
 "cells": [
  {
   "cell_type": "code",
   "execution_count": 1,
   "metadata": {},
   "outputs": [],
   "source": [
    "import wnbl\n",
    "import pandas as pd"
   ]
  },
  {
   "cell_type": "code",
   "execution_count": 2,
   "metadata": {},
   "outputs": [],
   "source": [
    "# The round is just a filter.  URL load whole fixture.abs\n",
    "\n",
    "# current round (5)\n",
    "url = \"https://hosted.wh.geniussports.com/embednf/WNBL/en/schedule?&iurl=https%3A%2F%2Fwnbl.basketball%2Fstats%2F&_nv=1&_mf=1\"\n",
    "\n",
    "# previous round (4) - use this, round = range 1:5\n",
    "url = \"https://hosted.wh.geniussports.com/embednf/WNBL/en/schedule?phaseName=Regular+Season&poolNumber=0&matchType=REGULAR&roundNumber={ROUND}&&iurl=https%3A%2F%2Fwnbl.basketball%2Fstats%2F&_nv=1&_mf=1\""
   ]
  },
  {
   "cell_type": "code",
   "execution_count": 3,
   "metadata": {},
   "outputs": [],
   "source": [
    "tmp = url.replace('{ROUND}','4')\n",
    "\n",
    "soup = wnbl.get_soup(url)"
   ]
  },
  {
   "cell_type": "code",
   "execution_count": 4,
   "metadata": {},
   "outputs": [],
   "source": [
    "fixture_html = soup.find('div', { 'class':'fixture-wrap'}).find_all('div',{'class':'match-wrap'})"
   ]
  },
  {
   "cell_type": "code",
   "execution_count": 5,
   "metadata": {},
   "outputs": [
    {
     "output_type": "execute_result",
     "data": {
      "text/plain": [
       "52"
      ]
     },
     "metadata": {},
     "execution_count": 5
    }
   ],
   "source": [
    "len(fixture_html)"
   ]
  },
  {
   "cell_type": "code",
   "execution_count": 7,
   "metadata": {},
   "outputs": [
    {
     "output_type": "execute_result",
     "data": {
      "text/plain": [
       "        id           timestamp                                  venue  \\\n",
       "0  1777473  11/11/2020 5:05 pm  McDonalds Mackay Multi Sports Stadium   \n",
       "1  1777524  11/11/2020 7:05 pm  McDonalds Mackay Multi Sports Stadium   \n",
       "2  1777502  12/11/2020 6:05 pm                     Townsville Stadium   \n",
       "3  1777482  12/11/2020 8:05 pm                     Townsville Stadium   \n",
       "4  1777478  14/11/2020 2:05 pm                     Townsville Stadium   \n",
       "\n",
       "            home_team home_score          away_team away_score  \n",
       "0  Adelaide Lightning         85        UC Capitals         73  \n",
       "1          Perth Lynx         48    Townsville Fire         73  \n",
       "2   Melbourne Boomers         85  Sydney Uni Flames         70  \n",
       "3      Bendigo Spirit         60   Southside Flyers        102  \n",
       "4      Bendigo Spirit         63  Sydney Uni Flames        100  "
      ],
      "text/html": "<div>\n<style scoped>\n    .dataframe tbody tr th:only-of-type {\n        vertical-align: middle;\n    }\n\n    .dataframe tbody tr th {\n        vertical-align: top;\n    }\n\n    .dataframe thead th {\n        text-align: right;\n    }\n</style>\n<table border=\"1\" class=\"dataframe\">\n  <thead>\n    <tr style=\"text-align: right;\">\n      <th></th>\n      <th>id</th>\n      <th>timestamp</th>\n      <th>venue</th>\n      <th>home_team</th>\n      <th>home_score</th>\n      <th>away_team</th>\n      <th>away_score</th>\n    </tr>\n  </thead>\n  <tbody>\n    <tr>\n      <th>0</th>\n      <td>1777473</td>\n      <td>11/11/2020 5:05 pm</td>\n      <td>McDonalds Mackay Multi Sports Stadium</td>\n      <td>Adelaide Lightning</td>\n      <td>85</td>\n      <td>UC Capitals</td>\n      <td>73</td>\n    </tr>\n    <tr>\n      <th>1</th>\n      <td>1777524</td>\n      <td>11/11/2020 7:05 pm</td>\n      <td>McDonalds Mackay Multi Sports Stadium</td>\n      <td>Perth Lynx</td>\n      <td>48</td>\n      <td>Townsville Fire</td>\n      <td>73</td>\n    </tr>\n    <tr>\n      <th>2</th>\n      <td>1777502</td>\n      <td>12/11/2020 6:05 pm</td>\n      <td>Townsville Stadium</td>\n      <td>Melbourne Boomers</td>\n      <td>85</td>\n      <td>Sydney Uni Flames</td>\n      <td>70</td>\n    </tr>\n    <tr>\n      <th>3</th>\n      <td>1777482</td>\n      <td>12/11/2020 8:05 pm</td>\n      <td>Townsville Stadium</td>\n      <td>Bendigo Spirit</td>\n      <td>60</td>\n      <td>Southside Flyers</td>\n      <td>102</td>\n    </tr>\n    <tr>\n      <th>4</th>\n      <td>1777478</td>\n      <td>14/11/2020 2:05 pm</td>\n      <td>Townsville Stadium</td>\n      <td>Bendigo Spirit</td>\n      <td>63</td>\n      <td>Sydney Uni Flames</td>\n      <td>100</td>\n    </tr>\n  </tbody>\n</table>\n</div>"
     },
     "metadata": {},
     "execution_count": 7
    }
   ],
   "source": [
    "games = []\n",
    "for game in fixture_html:\n",
    "    g_id = game.attrs['id'].replace('extfix_','')\n",
    "    g_timestamp = game.find('div', {'class':'match-time'}).find('span').text\n",
    "    g_venue = game.find('div', {'class':'match-venue'}).find('a').text\n",
    "    g_home_team = game.find('div', {'class':'home-team'}).find('div',{'class':'team-name'}).find('a').text.replace('\\n','')\n",
    "    g_home_score = game.find('div', {'class':'home-team'}).find('div',{'class':'team-score'}).find('div',{'class':'fake-cell'}).text\n",
    "    g_away_team = game.find('div', {'class':'away-team'}).find('div',{'class':'team-name'}).find('a').text\n",
    "    g_away_score = game.find('div', {'class':'away-team'}).find('div',{'class':'team-score'}).find('div',{'class':'fake-cell'}).text\n",
    "    result = [g_id,g_timestamp,g_venue,g_home_team,g_home_score,g_away_team,g_away_score]\n",
    "    games.append(result)\n",
    "\n",
    "labels = ['id','timestamp','venue','home_team','home_score','away_team','away_score']\n",
    "games_df = pd.DataFrame.from_records(games,columns=labels)\n",
    "games_df.head()\n"
   ]
  },
  {
   "cell_type": "code",
   "execution_count": 8,
   "metadata": {},
   "outputs": [],
   "source": [
    "games_df.to_csv('results2020.csv',index=False)"
   ]
  }
 ]
}